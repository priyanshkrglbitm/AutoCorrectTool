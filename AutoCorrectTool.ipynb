{
 "cells": [
  {
   "cell_type": "code",
   "execution_count": 1,
   "id": "7d839855",
   "metadata": {},
   "outputs": [],
   "source": [
    "from spellchecker import SpellChecker"
   ]
  },
  {
   "cell_type": "code",
   "execution_count": 2,
   "id": "1dcafcdd",
   "metadata": {},
   "outputs": [],
   "source": [
    "def correct_sentence(sentence):   \n",
    "    spell=SpellChecker() \n",
    "    words=sentence.split() #converting sentence into multiple words.\n",
    "    corrected_words=[spell.correction(word) for word in  words]  \n",
    "    corrected_sentence=\" \".join(corrected_words) \n",
    "    return corrected_sentence"
   ]
  },
  {
   "cell_type": "code",
   "execution_count": 3,
   "id": "b8b74cd1",
   "metadata": {},
   "outputs": [
    {
     "name": "stdout",
     "output_type": "stream",
     "text": [
      "Enter the sentence: havi you uploadied your projict\n",
      "Misspelled Sentence: havi you uploadied your projict\n",
      "corrected Sentence : have you uploaded your project\n"
     ]
    }
   ],
   "source": [
    "misspelled_sentence=str(input(\"Enter the sentence: \"))\n",
    "corrected_sentence=correct_sentence(misspelled_sentence)\n",
    "print(f\"Misspelled Sentence: {misspelled_sentence}\")\n",
    "print(f\"corrected Sentence : {corrected_sentence}\")"
   ]
  },
  {
   "cell_type": "code",
   "execution_count": null,
   "id": "e6e14660",
   "metadata": {},
   "outputs": [],
   "source": []
  }
 ],
 "metadata": {
  "kernelspec": {
   "display_name": "Python 3 (ipykernel)",
   "language": "python",
   "name": "python3"
  },
  "language_info": {
   "codemirror_mode": {
    "name": "ipython",
    "version": 3
   },
   "file_extension": ".py",
   "mimetype": "text/x-python",
   "name": "python",
   "nbconvert_exporter": "python",
   "pygments_lexer": "ipython3",
   "version": "3.11.0"
  }
 },
 "nbformat": 4,
 "nbformat_minor": 5
}
